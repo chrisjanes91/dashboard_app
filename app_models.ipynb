{
 "cells": [
  {
   "cell_type": "markdown",
   "id": "38b8b32d",
   "metadata": {},
   "source": [
    "Code to train models used for custom game predictor."
   ]
  },
  {
   "cell_type": "code",
   "execution_count": 1,
   "id": "5e9e1638-7dde-42bc-a490-316057ee3f44",
   "metadata": {},
   "outputs": [],
   "source": [
    "import pandas as pd\n",
    "from sklearn.preprocessing import MinMaxScaler\n",
    "from sklearn.ensemble import RandomForestClassifier\n",
    "from sklearn.linear_model import LogisticRegression\n",
    "from sklearn.svm import SVC\n",
    "import joblib"
   ]
  },
  {
   "cell_type": "code",
   "execution_count": 2,
   "id": "0b61f746-f631-4ea6-a7bf-39a3932179f6",
   "metadata": {},
   "outputs": [],
   "source": [
    "df = pd.read_csv('dashboard_trainer.csv')"
   ]
  },
  {
   "cell_type": "code",
   "execution_count": 3,
   "id": "3dfa31a9-73b4-4360-87f0-8d918f684ea9",
   "metadata": {},
   "outputs": [
    {
     "data": {
      "text/plain": [
       "['rf_model.pkl']"
      ]
     },
     "execution_count": 3,
     "metadata": {},
     "output_type": "execute_result"
    }
   ],
   "source": [
    "X = df.iloc[:, 2:]\n",
    "y = df.iloc[:, 0]\n",
    "\n",
    "scaler = MinMaxScaler()\n",
    "X_scaled = scaler.fit_transform(X)\n",
    "\n",
    "joblib.dump(scaler, 'scaler.pkl')\n",
    "\n",
    "lr_model = LogisticRegression()\n",
    "svm_model = SVC(probability=True, random_state=42)\n",
    "rf_model = RandomForestClassifier(random_state=42)\n",
    "\n",
    "lr_model.fit(X_scaled, y)\n",
    "joblib.dump(lr_model, 'lr_model.pkl')\n",
    "\n",
    "svm_model.fit(X_scaled, y)\n",
    "joblib.dump(svm_model, 'svm_model.pkl')\n",
    "\n",
    "rf_model.fit(X_scaled, y)\n",
    "joblib.dump(rf_model, 'rf_model.pkl')\n",
    "\n"
   ]
  }
 ],
 "metadata": {
  "kernelspec": {
   "display_name": "Python 3 (ipykernel)",
   "language": "python",
   "name": "python3"
  },
  "language_info": {
   "codemirror_mode": {
    "name": "ipython",
    "version": 3
   },
   "file_extension": ".py",
   "mimetype": "text/x-python",
   "name": "python",
   "nbconvert_exporter": "python",
   "pygments_lexer": "ipython3",
   "version": "3.11.9"
  }
 },
 "nbformat": 4,
 "nbformat_minor": 5
}
